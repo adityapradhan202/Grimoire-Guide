{
 "cells": [
  {
   "cell_type": "markdown",
   "metadata": {},
   "source": [
    "## Content based recommendation"
   ]
  },
  {
   "cell_type": "code",
   "execution_count": 87,
   "metadata": {},
   "outputs": [],
   "source": [
    "import pandas as pd\n",
    "import numpy as np\n",
    "from sklearn.feature_extraction.text import CountVectorizer\n",
    "from sklearn.metrics.pairwise import cosine_similarity\n",
    "\n",
    "from joblib import load\n",
    "from joblib import dump\n",
    "\n",
    "import spacy"
   ]
  },
  {
   "cell_type": "markdown",
   "metadata": {},
   "source": [
    "#### 1. Data preprocessing and cleaning"
   ]
  },
  {
   "cell_type": "code",
   "execution_count": 88,
   "metadata": {},
   "outputs": [],
   "source": [
    "df = pd.read_csv(\"../data/goodreads_data.csv\")"
   ]
  },
  {
   "cell_type": "code",
   "execution_count": 89,
   "metadata": {},
   "outputs": [],
   "source": [
    "# df.head()"
   ]
  },
  {
   "cell_type": "code",
   "execution_count": 90,
   "metadata": {},
   "outputs": [
    {
     "data": {
      "text/plain": [
       "0"
      ]
     },
     "execution_count": 90,
     "metadata": {},
     "output_type": "execute_result"
    }
   ],
   "source": [
    "df.duplicated().sum()"
   ]
  },
  {
   "cell_type": "code",
   "execution_count": 91,
   "metadata": {},
   "outputs": [
    {
     "data": {
      "text/plain": [
       "Unnamed: 0      0\n",
       "Book            0\n",
       "Author          0\n",
       "Description    77\n",
       "Genres          0\n",
       "Avg_Rating      0\n",
       "Num_Ratings     0\n",
       "URL             0\n",
       "dtype: int64"
      ]
     },
     "execution_count": 91,
     "metadata": {},
     "output_type": "execute_result"
    }
   ],
   "source": [
    "df.isnull().sum()"
   ]
  },
  {
   "cell_type": "code",
   "execution_count": 92,
   "metadata": {},
   "outputs": [
    {
     "data": {
      "text/plain": [
       "Unnamed: 0     0\n",
       "Book           0\n",
       "Author         0\n",
       "Description    0\n",
       "Genres         0\n",
       "Avg_Rating     0\n",
       "Num_Ratings    0\n",
       "URL            0\n",
       "dtype: int64"
      ]
     },
     "execution_count": 92,
     "metadata": {},
     "output_type": "execute_result"
    }
   ],
   "source": [
    "# 77 descriptions are nan\n",
    "# Descriptions of the books are key components for the recommendation sys\n",
    "\n",
    "df = df.dropna(axis=0)\n",
    "df.isnull().sum()"
   ]
  },
  {
   "cell_type": "code",
   "execution_count": 93,
   "metadata": {},
   "outputs": [
    {
     "data": {
      "text/plain": [
       "dtype('O')"
      ]
     },
     "execution_count": 93,
     "metadata": {},
     "output_type": "execute_result"
    }
   ],
   "source": [
    "df[\"Genres\"].dtype"
   ]
  },
  {
   "cell_type": "code",
   "execution_count": 94,
   "metadata": {},
   "outputs": [
    {
     "data": {
      "text/plain": [
       "\"['Classics', 'Fiction', 'Historical Fiction', 'School', 'Literature', 'Young Adult', 'Historical']\""
      ]
     },
     "execution_count": 94,
     "metadata": {},
     "output_type": "execute_result"
    }
   ],
   "source": [
    "df[\"Genres\"][0]"
   ]
  },
  {
   "cell_type": "code",
   "execution_count": 95,
   "metadata": {},
   "outputs": [],
   "source": [
    "df[\"Genres\"] = df[\"Genres\"].str.replace(\"[\", \"\").str.replace(\"]\", \"\").str.replace(\"'\", \"\")"
   ]
  },
  {
   "cell_type": "code",
   "execution_count": 96,
   "metadata": {},
   "outputs": [
    {
     "data": {
      "text/html": [
       "<div>\n",
       "<style scoped>\n",
       "    .dataframe tbody tr th:only-of-type {\n",
       "        vertical-align: middle;\n",
       "    }\n",
       "\n",
       "    .dataframe tbody tr th {\n",
       "        vertical-align: top;\n",
       "    }\n",
       "\n",
       "    .dataframe thead th {\n",
       "        text-align: right;\n",
       "    }\n",
       "</style>\n",
       "<table border=\"1\" class=\"dataframe\">\n",
       "  <thead>\n",
       "    <tr style=\"text-align: right;\">\n",
       "      <th></th>\n",
       "      <th>Unnamed: 0</th>\n",
       "      <th>Book</th>\n",
       "      <th>Author</th>\n",
       "      <th>Description</th>\n",
       "      <th>Genres</th>\n",
       "      <th>Avg_Rating</th>\n",
       "      <th>Num_Ratings</th>\n",
       "      <th>URL</th>\n",
       "    </tr>\n",
       "  </thead>\n",
       "  <tbody>\n",
       "    <tr>\n",
       "      <th>0</th>\n",
       "      <td>0</td>\n",
       "      <td>To Kill a Mockingbird</td>\n",
       "      <td>Harper Lee</td>\n",
       "      <td>The unforgettable novel of a childhood in a sl...</td>\n",
       "      <td>Classics, Fiction, Historical Fiction, School,...</td>\n",
       "      <td>4.27</td>\n",
       "      <td>5,691,311</td>\n",
       "      <td>https://www.goodreads.com/book/show/2657.To_Ki...</td>\n",
       "    </tr>\n",
       "    <tr>\n",
       "      <th>1</th>\n",
       "      <td>1</td>\n",
       "      <td>Harry Potter and the Philosopher’s Stone (Harr...</td>\n",
       "      <td>J.K. Rowling</td>\n",
       "      <td>Harry Potter thinks he is an ordinary boy - un...</td>\n",
       "      <td>Fantasy, Fiction, Young Adult, Magic, Children...</td>\n",
       "      <td>4.47</td>\n",
       "      <td>9,278,135</td>\n",
       "      <td>https://www.goodreads.com/book/show/72193.Harr...</td>\n",
       "    </tr>\n",
       "    <tr>\n",
       "      <th>2</th>\n",
       "      <td>2</td>\n",
       "      <td>Pride and Prejudice</td>\n",
       "      <td>Jane Austen</td>\n",
       "      <td>Since its immediate success in 1813, Pride and...</td>\n",
       "      <td>Classics, Fiction, Romance, Historical Fiction...</td>\n",
       "      <td>4.28</td>\n",
       "      <td>3,944,155</td>\n",
       "      <td>https://www.goodreads.com/book/show/1885.Pride...</td>\n",
       "    </tr>\n",
       "    <tr>\n",
       "      <th>3</th>\n",
       "      <td>3</td>\n",
       "      <td>The Diary of a Young Girl</td>\n",
       "      <td>Anne Frank</td>\n",
       "      <td>Discovered in the attic in which she spent the...</td>\n",
       "      <td>Classics, Nonfiction, History, Biography, Memo...</td>\n",
       "      <td>4.18</td>\n",
       "      <td>3,488,438</td>\n",
       "      <td>https://www.goodreads.com/book/show/48855.The_...</td>\n",
       "    </tr>\n",
       "    <tr>\n",
       "      <th>4</th>\n",
       "      <td>4</td>\n",
       "      <td>Animal Farm</td>\n",
       "      <td>George Orwell</td>\n",
       "      <td>Librarian's note: There is an Alternate Cover ...</td>\n",
       "      <td>Classics, Fiction, Dystopia, Fantasy, Politics...</td>\n",
       "      <td>3.98</td>\n",
       "      <td>3,575,172</td>\n",
       "      <td>https://www.goodreads.com/book/show/170448.Ani...</td>\n",
       "    </tr>\n",
       "  </tbody>\n",
       "</table>\n",
       "</div>"
      ],
      "text/plain": [
       "   Unnamed: 0                                               Book  \\\n",
       "0           0                              To Kill a Mockingbird   \n",
       "1           1  Harry Potter and the Philosopher’s Stone (Harr...   \n",
       "2           2                                Pride and Prejudice   \n",
       "3           3                          The Diary of a Young Girl   \n",
       "4           4                                        Animal Farm   \n",
       "\n",
       "          Author                                        Description  \\\n",
       "0     Harper Lee  The unforgettable novel of a childhood in a sl...   \n",
       "1   J.K. Rowling  Harry Potter thinks he is an ordinary boy - un...   \n",
       "2    Jane Austen  Since its immediate success in 1813, Pride and...   \n",
       "3     Anne Frank  Discovered in the attic in which she spent the...   \n",
       "4  George Orwell  Librarian's note: There is an Alternate Cover ...   \n",
       "\n",
       "                                              Genres  Avg_Rating Num_Ratings  \\\n",
       "0  Classics, Fiction, Historical Fiction, School,...        4.27   5,691,311   \n",
       "1  Fantasy, Fiction, Young Adult, Magic, Children...        4.47   9,278,135   \n",
       "2  Classics, Fiction, Romance, Historical Fiction...        4.28   3,944,155   \n",
       "3  Classics, Nonfiction, History, Biography, Memo...        4.18   3,488,438   \n",
       "4  Classics, Fiction, Dystopia, Fantasy, Politics...        3.98   3,575,172   \n",
       "\n",
       "                                                 URL  \n",
       "0  https://www.goodreads.com/book/show/2657.To_Ki...  \n",
       "1  https://www.goodreads.com/book/show/72193.Harr...  \n",
       "2  https://www.goodreads.com/book/show/1885.Pride...  \n",
       "3  https://www.goodreads.com/book/show/48855.The_...  \n",
       "4  https://www.goodreads.com/book/show/170448.Ani...  "
      ]
     },
     "execution_count": 96,
     "metadata": {},
     "output_type": "execute_result"
    }
   ],
   "source": [
    "df.head()"
   ]
  },
  {
   "cell_type": "code",
   "execution_count": 97,
   "metadata": {},
   "outputs": [],
   "source": [
    "df = df.drop(labels=\"Unnamed: 0\", axis=1)"
   ]
  },
  {
   "cell_type": "code",
   "execution_count": 98,
   "metadata": {},
   "outputs": [
    {
     "data": {
      "text/html": [
       "<div>\n",
       "<style scoped>\n",
       "    .dataframe tbody tr th:only-of-type {\n",
       "        vertical-align: middle;\n",
       "    }\n",
       "\n",
       "    .dataframe tbody tr th {\n",
       "        vertical-align: top;\n",
       "    }\n",
       "\n",
       "    .dataframe thead th {\n",
       "        text-align: right;\n",
       "    }\n",
       "</style>\n",
       "<table border=\"1\" class=\"dataframe\">\n",
       "  <thead>\n",
       "    <tr style=\"text-align: right;\">\n",
       "      <th></th>\n",
       "      <th>Book</th>\n",
       "      <th>Author</th>\n",
       "      <th>Description</th>\n",
       "      <th>Genres</th>\n",
       "      <th>Avg_Rating</th>\n",
       "      <th>Num_Ratings</th>\n",
       "      <th>URL</th>\n",
       "    </tr>\n",
       "  </thead>\n",
       "  <tbody>\n",
       "    <tr>\n",
       "      <th>0</th>\n",
       "      <td>To Kill a Mockingbird</td>\n",
       "      <td>Harper Lee</td>\n",
       "      <td>The unforgettable novel of a childhood in a sl...</td>\n",
       "      <td>Classics, Fiction, Historical Fiction, School,...</td>\n",
       "      <td>4.27</td>\n",
       "      <td>5,691,311</td>\n",
       "      <td>https://www.goodreads.com/book/show/2657.To_Ki...</td>\n",
       "    </tr>\n",
       "    <tr>\n",
       "      <th>1</th>\n",
       "      <td>Harry Potter and the Philosopher’s Stone (Harr...</td>\n",
       "      <td>J.K. Rowling</td>\n",
       "      <td>Harry Potter thinks he is an ordinary boy - un...</td>\n",
       "      <td>Fantasy, Fiction, Young Adult, Magic, Children...</td>\n",
       "      <td>4.47</td>\n",
       "      <td>9,278,135</td>\n",
       "      <td>https://www.goodreads.com/book/show/72193.Harr...</td>\n",
       "    </tr>\n",
       "    <tr>\n",
       "      <th>2</th>\n",
       "      <td>Pride and Prejudice</td>\n",
       "      <td>Jane Austen</td>\n",
       "      <td>Since its immediate success in 1813, Pride and...</td>\n",
       "      <td>Classics, Fiction, Romance, Historical Fiction...</td>\n",
       "      <td>4.28</td>\n",
       "      <td>3,944,155</td>\n",
       "      <td>https://www.goodreads.com/book/show/1885.Pride...</td>\n",
       "    </tr>\n",
       "    <tr>\n",
       "      <th>3</th>\n",
       "      <td>The Diary of a Young Girl</td>\n",
       "      <td>Anne Frank</td>\n",
       "      <td>Discovered in the attic in which she spent the...</td>\n",
       "      <td>Classics, Nonfiction, History, Biography, Memo...</td>\n",
       "      <td>4.18</td>\n",
       "      <td>3,488,438</td>\n",
       "      <td>https://www.goodreads.com/book/show/48855.The_...</td>\n",
       "    </tr>\n",
       "    <tr>\n",
       "      <th>4</th>\n",
       "      <td>Animal Farm</td>\n",
       "      <td>George Orwell</td>\n",
       "      <td>Librarian's note: There is an Alternate Cover ...</td>\n",
       "      <td>Classics, Fiction, Dystopia, Fantasy, Politics...</td>\n",
       "      <td>3.98</td>\n",
       "      <td>3,575,172</td>\n",
       "      <td>https://www.goodreads.com/book/show/170448.Ani...</td>\n",
       "    </tr>\n",
       "  </tbody>\n",
       "</table>\n",
       "</div>"
      ],
      "text/plain": [
       "                                                Book         Author  \\\n",
       "0                              To Kill a Mockingbird     Harper Lee   \n",
       "1  Harry Potter and the Philosopher’s Stone (Harr...   J.K. Rowling   \n",
       "2                                Pride and Prejudice    Jane Austen   \n",
       "3                          The Diary of a Young Girl     Anne Frank   \n",
       "4                                        Animal Farm  George Orwell   \n",
       "\n",
       "                                         Description  \\\n",
       "0  The unforgettable novel of a childhood in a sl...   \n",
       "1  Harry Potter thinks he is an ordinary boy - un...   \n",
       "2  Since its immediate success in 1813, Pride and...   \n",
       "3  Discovered in the attic in which she spent the...   \n",
       "4  Librarian's note: There is an Alternate Cover ...   \n",
       "\n",
       "                                              Genres  Avg_Rating Num_Ratings  \\\n",
       "0  Classics, Fiction, Historical Fiction, School,...        4.27   5,691,311   \n",
       "1  Fantasy, Fiction, Young Adult, Magic, Children...        4.47   9,278,135   \n",
       "2  Classics, Fiction, Romance, Historical Fiction...        4.28   3,944,155   \n",
       "3  Classics, Nonfiction, History, Biography, Memo...        4.18   3,488,438   \n",
       "4  Classics, Fiction, Dystopia, Fantasy, Politics...        3.98   3,575,172   \n",
       "\n",
       "                                                 URL  \n",
       "0  https://www.goodreads.com/book/show/2657.To_Ki...  \n",
       "1  https://www.goodreads.com/book/show/72193.Harr...  \n",
       "2  https://www.goodreads.com/book/show/1885.Pride...  \n",
       "3  https://www.goodreads.com/book/show/48855.The_...  \n",
       "4  https://www.goodreads.com/book/show/170448.Ani...  "
      ]
     },
     "execution_count": 98,
     "metadata": {},
     "output_type": "execute_result"
    }
   ],
   "source": [
    "df.head()"
   ]
  },
  {
   "cell_type": "code",
   "execution_count": 99,
   "metadata": {},
   "outputs": [
    {
     "data": {
      "text/plain": [
       "Book            object\n",
       "Author          object\n",
       "Description     object\n",
       "Genres          object\n",
       "Avg_Rating     float64\n",
       "Num_Ratings     object\n",
       "URL             object\n",
       "dtype: object"
      ]
     },
     "execution_count": 99,
     "metadata": {},
     "output_type": "execute_result"
    }
   ],
   "source": [
    "df.dtypes"
   ]
  },
  {
   "cell_type": "code",
   "execution_count": 100,
   "metadata": {},
   "outputs": [
    {
     "data": {
      "text/plain": [
       "dtype('O')"
      ]
     },
     "execution_count": 100,
     "metadata": {},
     "output_type": "execute_result"
    }
   ],
   "source": [
    "df[\"Num_Ratings\"].dtype"
   ]
  },
  {
   "cell_type": "code",
   "execution_count": 101,
   "metadata": {},
   "outputs": [],
   "source": [
    "def format_ratings(rating_str):\n",
    "    rating_str = rating_str.replace(\",\",\"\")\n",
    "    return int(rating_str)\n",
    "\n",
    "df[\"Num_Ratings\"]  = df[\"Num_Ratings\"].apply(format_ratings)"
   ]
  },
  {
   "cell_type": "code",
   "execution_count": 102,
   "metadata": {},
   "outputs": [
    {
     "data": {
      "text/plain": [
       "dtype('int64')"
      ]
     },
     "execution_count": 102,
     "metadata": {},
     "output_type": "execute_result"
    }
   ],
   "source": [
    "df[\"Num_Ratings\"].dtype"
   ]
  },
  {
   "cell_type": "code",
   "execution_count": 103,
   "metadata": {},
   "outputs": [
    {
     "data": {
      "text/html": [
       "<div>\n",
       "<style scoped>\n",
       "    .dataframe tbody tr th:only-of-type {\n",
       "        vertical-align: middle;\n",
       "    }\n",
       "\n",
       "    .dataframe tbody tr th {\n",
       "        vertical-align: top;\n",
       "    }\n",
       "\n",
       "    .dataframe thead th {\n",
       "        text-align: right;\n",
       "    }\n",
       "</style>\n",
       "<table border=\"1\" class=\"dataframe\">\n",
       "  <thead>\n",
       "    <tr style=\"text-align: right;\">\n",
       "      <th></th>\n",
       "      <th>Avg_Rating</th>\n",
       "      <th>Num_Ratings</th>\n",
       "    </tr>\n",
       "  </thead>\n",
       "  <tbody>\n",
       "    <tr>\n",
       "      <th>count</th>\n",
       "      <td>9923.000000</td>\n",
       "      <td>9.923000e+03</td>\n",
       "    </tr>\n",
       "    <tr>\n",
       "      <th>mean</th>\n",
       "      <td>4.067502</td>\n",
       "      <td>9.377206e+04</td>\n",
       "    </tr>\n",
       "    <tr>\n",
       "      <th>std</th>\n",
       "      <td>0.331937</td>\n",
       "      <td>3.433766e+05</td>\n",
       "    </tr>\n",
       "    <tr>\n",
       "      <th>min</th>\n",
       "      <td>0.000000</td>\n",
       "      <td>0.000000e+00</td>\n",
       "    </tr>\n",
       "    <tr>\n",
       "      <th>25%</th>\n",
       "      <td>3.880000</td>\n",
       "      <td>5.615000e+02</td>\n",
       "    </tr>\n",
       "    <tr>\n",
       "      <th>50%</th>\n",
       "      <td>4.070000</td>\n",
       "      <td>1.617000e+04</td>\n",
       "    </tr>\n",
       "    <tr>\n",
       "      <th>75%</th>\n",
       "      <td>4.260000</td>\n",
       "      <td>6.522650e+04</td>\n",
       "    </tr>\n",
       "    <tr>\n",
       "      <th>max</th>\n",
       "      <td>5.000000</td>\n",
       "      <td>9.278135e+06</td>\n",
       "    </tr>\n",
       "  </tbody>\n",
       "</table>\n",
       "</div>"
      ],
      "text/plain": [
       "        Avg_Rating   Num_Ratings\n",
       "count  9923.000000  9.923000e+03\n",
       "mean      4.067502  9.377206e+04\n",
       "std       0.331937  3.433766e+05\n",
       "min       0.000000  0.000000e+00\n",
       "25%       3.880000  5.615000e+02\n",
       "50%       4.070000  1.617000e+04\n",
       "75%       4.260000  6.522650e+04\n",
       "max       5.000000  9.278135e+06"
      ]
     },
     "execution_count": 103,
     "metadata": {},
     "output_type": "execute_result"
    }
   ],
   "source": [
    "df.describe()"
   ]
  },
  {
   "cell_type": "code",
   "execution_count": 104,
   "metadata": {},
   "outputs": [
    {
     "data": {
      "text/html": [
       "<div>\n",
       "<style scoped>\n",
       "    .dataframe tbody tr th:only-of-type {\n",
       "        vertical-align: middle;\n",
       "    }\n",
       "\n",
       "    .dataframe tbody tr th {\n",
       "        vertical-align: top;\n",
       "    }\n",
       "\n",
       "    .dataframe thead th {\n",
       "        text-align: right;\n",
       "    }\n",
       "</style>\n",
       "<table border=\"1\" class=\"dataframe\">\n",
       "  <thead>\n",
       "    <tr style=\"text-align: right;\">\n",
       "      <th></th>\n",
       "      <th>Book</th>\n",
       "      <th>Author</th>\n",
       "      <th>Description</th>\n",
       "      <th>Genres</th>\n",
       "      <th>Avg_Rating</th>\n",
       "      <th>Num_Ratings</th>\n",
       "      <th>URL</th>\n",
       "    </tr>\n",
       "  </thead>\n",
       "  <tbody>\n",
       "    <tr>\n",
       "      <th>3747</th>\n",
       "      <td>Broken: The Failed Promise of Muslim Inclusion</td>\n",
       "      <td>Evelyn Alsultany</td>\n",
       "      <td>PROSE Award- Media and Cultural Studies Finali...</td>\n",
       "      <td></td>\n",
       "      <td>0.0</td>\n",
       "      <td>0</td>\n",
       "      <td>https://www.goodreads.com/book/show/75268277-b...</td>\n",
       "    </tr>\n",
       "    <tr>\n",
       "      <th>6184</th>\n",
       "      <td>The Unknown She</td>\n",
       "      <td>Brooksie D. Thompson</td>\n",
       "      <td>In Brooksie D. Thompson's The Unknown She, poe...</td>\n",
       "      <td></td>\n",
       "      <td>0.0</td>\n",
       "      <td>0</td>\n",
       "      <td>https://www.goodreads.com/book/show/27640441-t...</td>\n",
       "    </tr>\n",
       "    <tr>\n",
       "      <th>7270</th>\n",
       "      <td>What Have We Done?</td>\n",
       "      <td>Zoe Moor</td>\n",
       "      <td>“Your decisions, no matter how right or wrong,...</td>\n",
       "      <td></td>\n",
       "      <td>0.0</td>\n",
       "      <td>0</td>\n",
       "      <td>https://www.goodreads.com/book/show/32708750-w...</td>\n",
       "    </tr>\n",
       "    <tr>\n",
       "      <th>9720</th>\n",
       "      <td>I,Legal in the U.S.A. - a memoir</td>\n",
       "      <td>Alejandra Campos</td>\n",
       "      <td>Autobiographical account of a young Hispanic w...</td>\n",
       "      <td></td>\n",
       "      <td>0.0</td>\n",
       "      <td>0</td>\n",
       "      <td>https://www.goodreads.com/book/show/18462053-i...</td>\n",
       "    </tr>\n",
       "    <tr>\n",
       "      <th>9793</th>\n",
       "      <td>About Love and Joy of Life: The Struggle for S...</td>\n",
       "      <td>Franz Josef Kaps</td>\n",
       "      <td>A touching and powerful story of love describi...</td>\n",
       "      <td></td>\n",
       "      <td>0.0</td>\n",
       "      <td>0</td>\n",
       "      <td>https://www.goodreads.com/book/show/19127889-a...</td>\n",
       "    </tr>\n",
       "    <tr>\n",
       "      <th>9861</th>\n",
       "      <td>The Sense of a Deity</td>\n",
       "      <td>Cale Rainer</td>\n",
       "      <td>**Out of Print**Children have an intimate rela...</td>\n",
       "      <td></td>\n",
       "      <td>0.0</td>\n",
       "      <td>0</td>\n",
       "      <td>https://www.goodreads.com/book/show/18128366-t...</td>\n",
       "    </tr>\n",
       "    <tr>\n",
       "      <th>9945</th>\n",
       "      <td>Ballochmyle</td>\n",
       "      <td>DIEL</td>\n",
       "      <td>A group of social outcasts have been forced to...</td>\n",
       "      <td></td>\n",
       "      <td>0.0</td>\n",
       "      <td>0</td>\n",
       "      <td>https://www.goodreads.com/book/show/21000600-b...</td>\n",
       "    </tr>\n",
       "    <tr>\n",
       "      <th>9986</th>\n",
       "      <td>The Vision of the Evening and the Morning</td>\n",
       "      <td>John Magallan Lopez</td>\n",
       "      <td>This book is about the corrilation which exist...</td>\n",
       "      <td></td>\n",
       "      <td>0.0</td>\n",
       "      <td>0</td>\n",
       "      <td>https://www.goodreads.com/book/show/22065143-t...</td>\n",
       "    </tr>\n",
       "  </tbody>\n",
       "</table>\n",
       "</div>"
      ],
      "text/plain": [
       "                                                   Book                Author  \\\n",
       "3747     Broken: The Failed Promise of Muslim Inclusion      Evelyn Alsultany   \n",
       "6184                                    The Unknown She  Brooksie D. Thompson   \n",
       "7270                                 What Have We Done?              Zoe Moor   \n",
       "9720                   I,Legal in the U.S.A. - a memoir      Alejandra Campos   \n",
       "9793  About Love and Joy of Life: The Struggle for S...      Franz Josef Kaps   \n",
       "9861                               The Sense of a Deity           Cale Rainer   \n",
       "9945                                        Ballochmyle                  DIEL   \n",
       "9986          The Vision of the Evening and the Morning   John Magallan Lopez   \n",
       "\n",
       "                                            Description Genres  Avg_Rating  \\\n",
       "3747  PROSE Award- Media and Cultural Studies Finali...                0.0   \n",
       "6184  In Brooksie D. Thompson's The Unknown She, poe...                0.0   \n",
       "7270  “Your decisions, no matter how right or wrong,...                0.0   \n",
       "9720  Autobiographical account of a young Hispanic w...                0.0   \n",
       "9793  A touching and powerful story of love describi...                0.0   \n",
       "9861  **Out of Print**Children have an intimate rela...                0.0   \n",
       "9945  A group of social outcasts have been forced to...                0.0   \n",
       "9986  This book is about the corrilation which exist...                0.0   \n",
       "\n",
       "      Num_Ratings                                                URL  \n",
       "3747            0  https://www.goodreads.com/book/show/75268277-b...  \n",
       "6184            0  https://www.goodreads.com/book/show/27640441-t...  \n",
       "7270            0  https://www.goodreads.com/book/show/32708750-w...  \n",
       "9720            0  https://www.goodreads.com/book/show/18462053-i...  \n",
       "9793            0  https://www.goodreads.com/book/show/19127889-a...  \n",
       "9861            0  https://www.goodreads.com/book/show/18128366-t...  \n",
       "9945            0  https://www.goodreads.com/book/show/21000600-b...  \n",
       "9986            0  https://www.goodreads.com/book/show/22065143-t...  "
      ]
     },
     "execution_count": 104,
     "metadata": {},
     "output_type": "execute_result"
    }
   ],
   "source": [
    "df[df[\"Num_Ratings\"]<1]"
   ]
  },
  {
   "cell_type": "code",
   "execution_count": 105,
   "metadata": {},
   "outputs": [
    {
     "data": {
      "text/plain": [
       "0"
      ]
     },
     "execution_count": 105,
     "metadata": {},
     "output_type": "execute_result"
    }
   ],
   "source": [
    "df = df.drop(labels=df[df[\"Num_Ratings\"]<1].index, axis=0)\n",
    "len(df[df[\"Num_Ratings\"]<1])"
   ]
  },
  {
   "cell_type": "code",
   "execution_count": 106,
   "metadata": {},
   "outputs": [
    {
     "data": {
      "text/html": [
       "<div>\n",
       "<style scoped>\n",
       "    .dataframe tbody tr th:only-of-type {\n",
       "        vertical-align: middle;\n",
       "    }\n",
       "\n",
       "    .dataframe tbody tr th {\n",
       "        vertical-align: top;\n",
       "    }\n",
       "\n",
       "    .dataframe thead th {\n",
       "        text-align: right;\n",
       "    }\n",
       "</style>\n",
       "<table border=\"1\" class=\"dataframe\">\n",
       "  <thead>\n",
       "    <tr style=\"text-align: right;\">\n",
       "      <th></th>\n",
       "      <th>Book</th>\n",
       "      <th>Author</th>\n",
       "      <th>Description</th>\n",
       "      <th>Genres</th>\n",
       "      <th>Avg_Rating</th>\n",
       "      <th>Num_Ratings</th>\n",
       "      <th>URL</th>\n",
       "    </tr>\n",
       "  </thead>\n",
       "  <tbody>\n",
       "  </tbody>\n",
       "</table>\n",
       "</div>"
      ],
      "text/plain": [
       "Empty DataFrame\n",
       "Columns: [Book, Author, Description, Genres, Avg_Rating, Num_Ratings, URL]\n",
       "Index: []"
      ]
     },
     "execution_count": 106,
     "metadata": {},
     "output_type": "execute_result"
    }
   ],
   "source": [
    "df[df[\"Avg_Rating\"]<1]"
   ]
  },
  {
   "cell_type": "code",
   "execution_count": 107,
   "metadata": {},
   "outputs": [
    {
     "data": {
      "text/html": [
       "<div>\n",
       "<style scoped>\n",
       "    .dataframe tbody tr th:only-of-type {\n",
       "        vertical-align: middle;\n",
       "    }\n",
       "\n",
       "    .dataframe tbody tr th {\n",
       "        vertical-align: top;\n",
       "    }\n",
       "\n",
       "    .dataframe thead th {\n",
       "        text-align: right;\n",
       "    }\n",
       "</style>\n",
       "<table border=\"1\" class=\"dataframe\">\n",
       "  <thead>\n",
       "    <tr style=\"text-align: right;\">\n",
       "      <th></th>\n",
       "      <th>Avg_Rating</th>\n",
       "      <th>Num_Ratings</th>\n",
       "    </tr>\n",
       "  </thead>\n",
       "  <tbody>\n",
       "    <tr>\n",
       "      <th>count</th>\n",
       "      <td>9915.000000</td>\n",
       "      <td>9.915000e+03</td>\n",
       "    </tr>\n",
       "    <tr>\n",
       "      <th>mean</th>\n",
       "      <td>4.070784</td>\n",
       "      <td>9.384772e+04</td>\n",
       "    </tr>\n",
       "    <tr>\n",
       "      <th>std</th>\n",
       "      <td>0.311303</td>\n",
       "      <td>3.435048e+05</td>\n",
       "    </tr>\n",
       "    <tr>\n",
       "      <th>min</th>\n",
       "      <td>1.640000</td>\n",
       "      <td>1.000000e+00</td>\n",
       "    </tr>\n",
       "    <tr>\n",
       "      <th>25%</th>\n",
       "      <td>3.880000</td>\n",
       "      <td>5.705000e+02</td>\n",
       "    </tr>\n",
       "    <tr>\n",
       "      <th>50%</th>\n",
       "      <td>4.070000</td>\n",
       "      <td>1.621100e+04</td>\n",
       "    </tr>\n",
       "    <tr>\n",
       "      <th>75%</th>\n",
       "      <td>4.260000</td>\n",
       "      <td>6.527350e+04</td>\n",
       "    </tr>\n",
       "    <tr>\n",
       "      <th>max</th>\n",
       "      <td>5.000000</td>\n",
       "      <td>9.278135e+06</td>\n",
       "    </tr>\n",
       "  </tbody>\n",
       "</table>\n",
       "</div>"
      ],
      "text/plain": [
       "        Avg_Rating   Num_Ratings\n",
       "count  9915.000000  9.915000e+03\n",
       "mean      4.070784  9.384772e+04\n",
       "std       0.311303  3.435048e+05\n",
       "min       1.640000  1.000000e+00\n",
       "25%       3.880000  5.705000e+02\n",
       "50%       4.070000  1.621100e+04\n",
       "75%       4.260000  6.527350e+04\n",
       "max       5.000000  9.278135e+06"
      ]
     },
     "execution_count": 107,
     "metadata": {},
     "output_type": "execute_result"
    }
   ],
   "source": [
    "df.describe()"
   ]
  },
  {
   "cell_type": "code",
   "execution_count": 109,
   "metadata": {},
   "outputs": [],
   "source": [
    "en_model = spacy.load(\"en_core_web_sm\")"
   ]
  },
  {
   "cell_type": "code",
   "execution_count": 115,
   "metadata": {},
   "outputs": [
    {
     "data": {
      "text/plain": [
       "'hi gaming Scythe will tell real'"
      ]
     },
     "execution_count": 115,
     "metadata": {},
     "output_type": "execute_result"
    }
   ],
   "source": [
    "# Function to preprocess the description column\n",
    "def process_description(desc, nlp_model=en_model):\n",
    "    doc = nlp_model(desc)\n",
    "    filtered = []\n",
    "    for token in doc:\n",
    "        if (not token.is_stop) and (not token.is_punct):\n",
    "            filtered.append(token.lemma_)\n",
    "\n",
    "    return \" \".join(filtered)\n",
    "\n",
    "# Testing this function\n",
    "process_description(desc=\"Hi! My gaming name is Scythe! I won't tell you my real name\")"
   ]
  },
  {
   "cell_type": "code",
   "execution_count": 116,
   "metadata": {},
   "outputs": [],
   "source": [
    "# Preprocessing the descriptions of books\n",
    "df[\"processed_desc\"] = df[\"Description\"].apply(process_description)"
   ]
  },
  {
   "cell_type": "code",
   "execution_count": 117,
   "metadata": {},
   "outputs": [
    {
     "data": {
      "text/html": [
       "<div>\n",
       "<style scoped>\n",
       "    .dataframe tbody tr th:only-of-type {\n",
       "        vertical-align: middle;\n",
       "    }\n",
       "\n",
       "    .dataframe tbody tr th {\n",
       "        vertical-align: top;\n",
       "    }\n",
       "\n",
       "    .dataframe thead th {\n",
       "        text-align: right;\n",
       "    }\n",
       "</style>\n",
       "<table border=\"1\" class=\"dataframe\">\n",
       "  <thead>\n",
       "    <tr style=\"text-align: right;\">\n",
       "      <th></th>\n",
       "      <th>Book</th>\n",
       "      <th>Author</th>\n",
       "      <th>Description</th>\n",
       "      <th>Genres</th>\n",
       "      <th>Avg_Rating</th>\n",
       "      <th>Num_Ratings</th>\n",
       "      <th>URL</th>\n",
       "      <th>processed_desc</th>\n",
       "    </tr>\n",
       "  </thead>\n",
       "  <tbody>\n",
       "    <tr>\n",
       "      <th>0</th>\n",
       "      <td>To Kill a Mockingbird</td>\n",
       "      <td>Harper Lee</td>\n",
       "      <td>The unforgettable novel of a childhood in a sl...</td>\n",
       "      <td>Classics, Fiction, Historical Fiction, School,...</td>\n",
       "      <td>4.27</td>\n",
       "      <td>5691311</td>\n",
       "      <td>https://www.goodreads.com/book/show/2657.To_Ki...</td>\n",
       "      <td>unforgettable novel childhood sleepy southern ...</td>\n",
       "    </tr>\n",
       "    <tr>\n",
       "      <th>1</th>\n",
       "      <td>Harry Potter and the Philosopher’s Stone (Harr...</td>\n",
       "      <td>J.K. Rowling</td>\n",
       "      <td>Harry Potter thinks he is an ordinary boy - un...</td>\n",
       "      <td>Fantasy, Fiction, Young Adult, Magic, Children...</td>\n",
       "      <td>4.47</td>\n",
       "      <td>9278135</td>\n",
       "      <td>https://www.goodreads.com/book/show/72193.Harr...</td>\n",
       "      <td>Harry Potter think ordinary boy rescue owl tak...</td>\n",
       "    </tr>\n",
       "    <tr>\n",
       "      <th>2</th>\n",
       "      <td>Pride and Prejudice</td>\n",
       "      <td>Jane Austen</td>\n",
       "      <td>Since its immediate success in 1813, Pride and...</td>\n",
       "      <td>Classics, Fiction, Romance, Historical Fiction...</td>\n",
       "      <td>4.28</td>\n",
       "      <td>3944155</td>\n",
       "      <td>https://www.goodreads.com/book/show/1885.Pride...</td>\n",
       "      <td>immediate success 1813 Pride Prejudice remain ...</td>\n",
       "    </tr>\n",
       "    <tr>\n",
       "      <th>3</th>\n",
       "      <td>The Diary of a Young Girl</td>\n",
       "      <td>Anne Frank</td>\n",
       "      <td>Discovered in the attic in which she spent the...</td>\n",
       "      <td>Classics, Nonfiction, History, Biography, Memo...</td>\n",
       "      <td>4.18</td>\n",
       "      <td>3488438</td>\n",
       "      <td>https://www.goodreads.com/book/show/48855.The_...</td>\n",
       "      <td>discover attic spend year life Anne Frank rema...</td>\n",
       "    </tr>\n",
       "    <tr>\n",
       "      <th>4</th>\n",
       "      <td>Animal Farm</td>\n",
       "      <td>George Orwell</td>\n",
       "      <td>Librarian's note: There is an Alternate Cover ...</td>\n",
       "      <td>Classics, Fiction, Dystopia, Fantasy, Politics...</td>\n",
       "      <td>3.98</td>\n",
       "      <td>3575172</td>\n",
       "      <td>https://www.goodreads.com/book/show/170448.Ani...</td>\n",
       "      <td>Librarian note Alternate Cover Edition edition...</td>\n",
       "    </tr>\n",
       "  </tbody>\n",
       "</table>\n",
       "</div>"
      ],
      "text/plain": [
       "                                                Book         Author  \\\n",
       "0                              To Kill a Mockingbird     Harper Lee   \n",
       "1  Harry Potter and the Philosopher’s Stone (Harr...   J.K. Rowling   \n",
       "2                                Pride and Prejudice    Jane Austen   \n",
       "3                          The Diary of a Young Girl     Anne Frank   \n",
       "4                                        Animal Farm  George Orwell   \n",
       "\n",
       "                                         Description  \\\n",
       "0  The unforgettable novel of a childhood in a sl...   \n",
       "1  Harry Potter thinks he is an ordinary boy - un...   \n",
       "2  Since its immediate success in 1813, Pride and...   \n",
       "3  Discovered in the attic in which she spent the...   \n",
       "4  Librarian's note: There is an Alternate Cover ...   \n",
       "\n",
       "                                              Genres  Avg_Rating  Num_Ratings  \\\n",
       "0  Classics, Fiction, Historical Fiction, School,...        4.27      5691311   \n",
       "1  Fantasy, Fiction, Young Adult, Magic, Children...        4.47      9278135   \n",
       "2  Classics, Fiction, Romance, Historical Fiction...        4.28      3944155   \n",
       "3  Classics, Nonfiction, History, Biography, Memo...        4.18      3488438   \n",
       "4  Classics, Fiction, Dystopia, Fantasy, Politics...        3.98      3575172   \n",
       "\n",
       "                                                 URL  \\\n",
       "0  https://www.goodreads.com/book/show/2657.To_Ki...   \n",
       "1  https://www.goodreads.com/book/show/72193.Harr...   \n",
       "2  https://www.goodreads.com/book/show/1885.Pride...   \n",
       "3  https://www.goodreads.com/book/show/48855.The_...   \n",
       "4  https://www.goodreads.com/book/show/170448.Ani...   \n",
       "\n",
       "                                      processed_desc  \n",
       "0  unforgettable novel childhood sleepy southern ...  \n",
       "1  Harry Potter think ordinary boy rescue owl tak...  \n",
       "2  immediate success 1813 Pride Prejudice remain ...  \n",
       "3  discover attic spend year life Anne Frank rema...  \n",
       "4  Librarian note Alternate Cover Edition edition...  "
      ]
     },
     "execution_count": 117,
     "metadata": {},
     "output_type": "execute_result"
    }
   ],
   "source": [
    "df.head()"
   ]
  },
  {
   "cell_type": "code",
   "execution_count": 118,
   "metadata": {},
   "outputs": [],
   "source": [
    "df.to_csv(\"../data/processed.csv\", index=False)"
   ]
  },
  {
   "cell_type": "code",
   "execution_count": 134,
   "metadata": {},
   "outputs": [
    {
     "data": {
      "text/plain": [
       "Book                0\n",
       "Author              0\n",
       "Description         0\n",
       "Genres            915\n",
       "Avg_Rating          0\n",
       "Num_Ratings         0\n",
       "URL                 0\n",
       "processed_desc      1\n",
       "dtype: int64"
      ]
     },
     "execution_count": 134,
     "metadata": {},
     "output_type": "execute_result"
    }
   ],
   "source": [
    "df = pd.read_csv(\"../data/processed.csv\")\n",
    "df.isnull().sum()"
   ]
  },
  {
   "cell_type": "code",
   "execution_count": null,
   "metadata": {},
   "outputs": [],
   "source": [
    "# For some reason we got some null values\n",
    "# But these aren't that many\n",
    "# (For some reason I am not able to find the issue, let's just drop these rows)\n",
    "df = df.dropna(axis=0)"
   ]
  },
  {
   "cell_type": "code",
   "execution_count": 136,
   "metadata": {},
   "outputs": [
    {
     "data": {
      "text/plain": [
       "Book              0\n",
       "Author            0\n",
       "Description       0\n",
       "Genres            0\n",
       "Avg_Rating        0\n",
       "Num_Ratings       0\n",
       "URL               0\n",
       "processed_desc    0\n",
       "dtype: int64"
      ]
     },
     "execution_count": 136,
     "metadata": {},
     "output_type": "execute_result"
    }
   ],
   "source": [
    "df.isnull().sum()"
   ]
  },
  {
   "cell_type": "code",
   "execution_count": 137,
   "metadata": {},
   "outputs": [],
   "source": [
    "df.to_csv(\"../data/processed.csv\", index=False)"
   ]
  },
  {
   "cell_type": "markdown",
   "metadata": {},
   "source": [
    "#### 2. Creating vocabulary for descriptions of books"
   ]
  },
  {
   "cell_type": "code",
   "execution_count": 139,
   "metadata": {},
   "outputs": [],
   "source": [
    "import pandas as pd\n",
    "import numpy as np\n",
    "\n",
    "from sklearn.feature_extraction.text import CountVectorizer\n",
    "from sklearn.metrics.pairwise import cosine_similarity\n",
    "\n",
    "from joblib import load\n",
    "from joblib import dump\n",
    "\n",
    "import spacy"
   ]
  },
  {
   "cell_type": "code",
   "execution_count": 140,
   "metadata": {},
   "outputs": [],
   "source": [
    "df = pd.read_csv(\"../data/processed.csv\")"
   ]
  },
  {
   "cell_type": "code",
   "execution_count": 142,
   "metadata": {},
   "outputs": [
    {
     "data": {
      "text/plain": [
       "<8999x57878 sparse matrix of type '<class 'numpy.int64'>'\n",
       "\twith 632826 stored elements in Compressed Sparse Row format>"
      ]
     },
     "execution_count": 142,
     "metadata": {},
     "output_type": "execute_result"
    }
   ],
   "source": [
    "vec = CountVectorizer()\n",
    "p_desc = df[\"processed_desc\"]\n",
    "vec.fit(p_desc)\n",
    "\n",
    "p_desc_vec = vec.transform(p_desc)\n",
    "p_desc_vec"
   ]
  },
  {
   "cell_type": "code",
   "execution_count": 144,
   "metadata": {},
   "outputs": [
    {
     "data": {
      "text/plain": [
       "array(['albertine', 'alberto', 'albie', 'albino', 'albinoni', 'albinus',\n",
       "       'albolabris', 'albom', 'albrand', 'album', 'albuquerque', 'albus',\n",
       "       'alcaide', 'alcan', 'alcance', 'alcanza', 'alcança', 'alcasan',\n",
       "       'alcatraz', 'alceste', 'alchemical', 'alchemist', 'alchemists',\n",
       "       'alchemy', 'alchemyinspired', 'alchemyst', 'alcibiadas', 'alcina',\n",
       "       'alcoa', 'alcohol', 'alcoholic', 'alcoholics', 'alcoholism',\n",
       "       'alcohólico', 'alcorn', 'alcott', 'alcunha', 'aldbourne', 'alden',\n",
       "       'aldens', 'alderley', 'alderman', 'alderson', 'aldiss', 'aldous',\n",
       "       'aldrich', 'aldridge', 'aldrig', 'aldur', 'aldırmadan'],\n",
       "      dtype=object)"
      ]
     },
     "execution_count": 144,
     "metadata": {},
     "output_type": "execute_result"
    }
   ],
   "source": [
    "# This is what the bag of words of the vocabulary looks like\n",
    "vec.get_feature_names_out()[2000:2050]"
   ]
  },
  {
   "cell_type": "markdown",
   "metadata": {},
   "source": [
    "#### 3. Using the concept of cosine similarity for a recommendation system"
   ]
  },
  {
   "cell_type": "code",
   "execution_count": 145,
   "metadata": {},
   "outputs": [],
   "source": [
    "# We have the sparse matrix\n",
    "# Let's calculate the cosine sim of each vec with other vec\n",
    "\n",
    "all_sim = cosine_similarity(p_desc_vec)"
   ]
  },
  {
   "cell_type": "code",
   "execution_count": null,
   "metadata": {},
   "outputs": [
    {
     "data": {
      "text/plain": [
       "array([1.        , 0.02152654, 0.06755523, ..., 0.09928551, 0.06942101,\n",
       "       0.03958844])"
      ]
     },
     "execution_count": 147,
     "metadata": {},
     "output_type": "execute_result"
    }
   ],
   "source": [
    "# This is similarity of first  with every other description\n",
    "all_sim[0] "
   ]
  },
  {
   "cell_type": "code",
   "execution_count": 162,
   "metadata": {},
   "outputs": [
    {
     "data": {
      "text/plain": [
       "[52, 142, 439, 451, 896, 1420]"
      ]
     },
     "execution_count": 162,
     "metadata": {},
     "output_type": "execute_result"
    }
   ],
   "source": [
    "sim_index = []\n",
    "threshold = 0.2\n",
    "for ind, sim in enumerate(all_sim[0]):\n",
    "    if sim > threshold:\n",
    "        sim_index.append(ind)\n",
    "\n",
    "sim_index[1:7]"
   ]
  },
  {
   "cell_type": "code",
   "execution_count": 163,
   "metadata": {},
   "outputs": [
    {
     "data": {
      "text/plain": [
       "'The unforgettable novel of a childhood in a sleepy Southern town and the crisis of conscience that rocked it. \"To Kill A Mockingbird\" became both an instant bestseller and a critical success when it was first published in 1960. It went on to win the Pulitzer Prize in 1961 and was later made into an Academy Award-winning film, also a classic.Compassionate, dramatic, and deeply moving, \"To Kill A Mockingbird\" takes readers to the roots of human behavior - to innocence and experience, kindness and cruelty, love and hatred, humor and pathos. Now with over 18 million copies in print and translated into forty languages, this regional story by a young Alabama woman claims universal appeal. Harper Lee always considered her book to be a simple love story. Today it is regarded as a masterpiece of American literature.'"
      ]
     },
     "execution_count": 163,
     "metadata": {},
     "output_type": "execute_result"
    }
   ],
   "source": [
    "df[\"Description\"][0]"
   ]
  },
  {
   "cell_type": "code",
   "execution_count": 164,
   "metadata": {},
   "outputs": [
    {
     "data": {
      "text/plain": [
       "'From Harper Lee comes a landmark new novel set two decades after her beloved Pulitzer Prize-winning masterpiece, To Kill a Mockingbird. Maycomb, Alabama. Twenty-six-year-old Jean Louise Finch—\"Scout\"—returns home from New York City to visit her aging father, Atticus. Set against the backdrop of the civil rights tensions and political turmoil that were transforming the South, Jean Louise\\'s homecoming turns bittersweet when she learns disturbing truths about her close-knit family, the town and the people dearest to her. Memories from her childhood flood back, and her values and assumptions are thrown into doubt. Featuring many of the iconic characters from To Kill a Mockingbird, Go Set a Watchman perfectly captures a young woman, and a world, in a painful yet necessary transition out of the illusions of the past—a journey that can be guided only by one\\'s conscience. Written in the mid-1950s, Go Set a Watchman imparts a fuller, richer understanding and appreciation of Harper Lee. Here is an unforgettable novel of wisdom, humanity, passion, humor and effortless precision—a profoundly affecting work of art that is both wonderfully evocative of another era and relevant to our own times. It not only confirms the enduring brilliance of To Kill a Mockingbird, but also serves as its essential companion, adding depth, context and new meaning to an American classic.'"
      ]
     },
     "execution_count": 164,
     "metadata": {},
     "output_type": "execute_result"
    }
   ],
   "source": [
    "df[\"Description\"][1420]"
   ]
  },
  {
   "cell_type": "markdown",
   "metadata": {},
   "source": [
    "**Both the books are about Americal literature or culture.**"
   ]
  },
  {
   "cell_type": "code",
   "execution_count": 214,
   "metadata": {},
   "outputs": [],
   "source": [
    "# Copy paste of same function we made for preprocessing\n",
    "def process_description(desc, nlp_model=en_model):\n",
    "    doc = nlp_model(desc)\n",
    "    filtered = []\n",
    "    for token in doc:\n",
    "        if (not token.is_stop) and (not token.is_punct):\n",
    "            filtered.append(token.lemma_)\n",
    "\n",
    "    return \" \".join(filtered)\n",
    "\n",
    "\n",
    "# Function for matching our description with the description present in data\n",
    "\n",
    "def similar_description(desc, nlp_model=en_model, \n",
    "                        vectorizer=vec, desc_sparse=p_desc_vec):\n",
    "    \n",
    "    matched_inds = []\n",
    "    thresh_range = [0.5, 0.4, 0.3, 0.2, 0.1]\n",
    "    for thresh in thresh_range:\n",
    "\n",
    "        ptext = process_description(desc=desc, nlp_model=nlp_model)\n",
    "        ptext_vec = vectorizer.transform([ptext])\n",
    "\n",
    "        # print(f\"Searching in thresh range - [{thresh} - 1.00]\")\n",
    "\n",
    "        for ind, desc_sp in enumerate(desc_sparse):\n",
    "            csim = cosine_similarity(ptext_vec, desc_sp)\n",
    "            if csim[0][0] >= thresh and csim < 1.0:\n",
    "                matched_inds.append(ind)\n",
    "\n",
    "        if len(matched_inds) != 0:\n",
    "            return matched_inds"
   ]
  },
  {
   "cell_type": "code",
   "execution_count": 215,
   "metadata": {},
   "outputs": [
    {
     "data": {
      "text/plain": [
       "[1198, 3717, 5277, 5834, 6409, 8301]"
      ]
     },
     "execution_count": 215,
     "metadata": {},
     "output_type": "execute_result"
    }
   ],
   "source": [
    "similar_description(desc=\"Wars of the acient times fought very fiercely\")"
   ]
  },
  {
   "cell_type": "code",
   "execution_count": 216,
   "metadata": {},
   "outputs": [],
   "source": [
    "def collect_data(matched_inds, df=df):\n",
    "    res_dict = {}\n",
    "    for ind in matched_inds:\n",
    "        res_dict[df[\"Book\"].iloc[ind]] = {\n",
    "            \"description\":df[\"Description\"].iloc[ind],\n",
    "            \"author\":df[\"Author\"].iloc[ind],\n",
    "            \"genres\":df[\"Genres\"].iloc[ind],\n",
    "            \"avg_rating\":df[\"Avg_Rating\"].iloc[ind],\n",
    "            \"url\":df[\"URL\"][ind]\n",
    "        }\n",
    "\n",
    "    return res_dict"
   ]
  },
  {
   "cell_type": "code",
   "execution_count": 217,
   "metadata": {},
   "outputs": [
    {
     "data": {
      "text/plain": [
       "{'description': 'In 1936 George Orwell travelled to Spain to report on the Civil War and instead joined the fight against the Fascists. This famous account describes the war and Orwell’s own experiences. Introduction by Lionel Trilling.',\n",
       " 'author': 'George Orwell',\n",
       " 'genres': 'History, Nonfiction, Politics, Classics, War, Memoir, Biography',\n",
       " 'avg_rating': 4.09,\n",
       " 'url': 'https://www.goodreads.com/book/show/9646.Homage_to_Catalonia'}"
      ]
     },
     "execution_count": 217,
     "metadata": {},
     "output_type": "execute_result"
    }
   ],
   "source": [
    "res = collect_data(matched_inds=[1198, 3717, 5277, 5834, 6409, 8301])\n",
    "# res\n",
    "\n",
    "first_key = list(res.keys())[0]\n",
    "res[first_key]"
   ]
  },
  {
   "cell_type": "code",
   "execution_count": 212,
   "metadata": {},
   "outputs": [
    {
     "data": {
      "text/plain": [
       "['../saved_components/all_sim.pickle']"
      ]
     },
     "execution_count": 212,
     "metadata": {},
     "output_type": "execute_result"
    }
   ],
   "source": [
    "# Let's save some important components that we will need later\n",
    "dump(value=vec, filename=\"../saved_components/vectorizer.pickle\")\n",
    "dump(value=p_desc_vec, filename=\"../saved_components/pdesc_sparse.pickle\")\n",
    "dump(value=en_model, filename=\"../saved_components/en_model_sm.pickle\")\n",
    "dump(value=all_sim, filename=\"../saved_components/all_sim.pickle\")"
   ]
  },
  {
   "cell_type": "markdown",
   "metadata": {},
   "source": [
    "#### 4. Loading the components and using them"
   ]
  },
  {
   "cell_type": "code",
   "execution_count": 227,
   "metadata": {},
   "outputs": [],
   "source": [
    "# Loading the components\n",
    "loaded_vec = load(filename=\"../saved_components/vectorizer.pickle\")\n",
    "loaded_sparse = load(filename=\"../saved_components/pdesc_sparse.pickle\")\n",
    "loaded_nlp_en = load(filename=\"../saved_components/en_model_sm.pickle\")"
   ]
  },
  {
   "cell_type": "code",
   "execution_count": 218,
   "metadata": {},
   "outputs": [],
   "source": [
    "# Copy paste of same function we made for preprocessing and for recommendation\n",
    "def process_description(desc, nlp_model=loaded_nlp_en):\n",
    "    doc = nlp_model(desc)\n",
    "    filtered = []\n",
    "    for token in doc:\n",
    "        if (not token.is_stop) and (not token.is_punct):\n",
    "            filtered.append(token.lemma_)\n",
    "\n",
    "    return \" \".join(filtered)\n",
    "\n",
    "def similar_description(desc, nlp_model=loaded_nlp_en, \n",
    "                        vectorizer=loaded_vec, desc_sparse=loaded_sparse):\n",
    "    \n",
    "    matched_inds = []\n",
    "    thresh_range = [0.5, 0.4, 0.3, 0.2, 0.1]\n",
    "    for thresh in thresh_range:\n",
    "\n",
    "        ptext = process_description(desc=desc, nlp_model=nlp_model)\n",
    "        ptext_vec = vectorizer.transform([ptext])\n",
    "\n",
    "        print(f\"Searching in thresh range - [{thresh} - 1.00]\")\n",
    "\n",
    "        for ind, desc_sp in enumerate(desc_sparse):\n",
    "            csim = cosine_similarity(ptext_vec, desc_sp)\n",
    "            if csim[0][0] >= thresh and csim < 1.0:\n",
    "                matched_inds.append(ind)\n",
    "\n",
    "        if len(matched_inds) != 0:\n",
    "            return matched_inds"
   ]
  },
  {
   "cell_type": "code",
   "execution_count": 223,
   "metadata": {},
   "outputs": [
    {
     "name": "stdout",
     "output_type": "stream",
     "text": [
      "Searching in thresh range - [0.5 - 1.00]\n",
      "Searching in thresh range - [0.4 - 1.00]\n",
      "Searching in thresh range - [0.3 - 1.00]\n"
     ]
    },
    {
     "data": {
      "text/plain": [
       "[593, 971, 1198, 1665, 3717, 4103, 4761, 5834, 6409, 6617, 8301, 8397]"
      ]
     },
     "execution_count": 223,
     "metadata": {},
     "output_type": "execute_result"
    }
   ],
   "source": [
    "# Testing the function with loaded components\n",
    "similar_description(desc=\"Samurais fighting with each other in war to take revenge\")"
   ]
  },
  {
   "cell_type": "code",
   "execution_count": 224,
   "metadata": {},
   "outputs": [],
   "source": [
    "def collect_data(matched_inds, df=df):\n",
    "    res_dict = {}\n",
    "    for ind in matched_inds:\n",
    "        res_dict[df[\"Book\"].iloc[ind]] = {\n",
    "            \"description\":df[\"Description\"].iloc[ind],\n",
    "            \"author\":df[\"Author\"].iloc[ind],\n",
    "            \"genres\":df[\"Genres\"].iloc[ind],\n",
    "            \"avg_rating\":df[\"Avg_Rating\"].iloc[ind],\n",
    "            \"url\":df[\"URL\"][ind]\n",
    "        }\n",
    "\n",
    "    return res_dict"
   ]
  }
 ],
 "metadata": {
  "language_info": {
   "name": "python"
  }
 },
 "nbformat": 4,
 "nbformat_minor": 2
}
